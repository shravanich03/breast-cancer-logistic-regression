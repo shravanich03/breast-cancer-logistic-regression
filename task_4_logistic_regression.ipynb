{
 "cells": [
  {
   "cell_type": "markdown",
   "id": "17a50853",
   "metadata": {},
   "source": [
    "# Logistic Regression - Breast Cancer Classification\n",
    "This notebook performs binary classification using logistic regression on the Breast Cancer Wisconsin dataset."
   ]
  },
  {
   "cell_type": "markdown",
   "id": "bd60e00f",
   "metadata": {},
   "source": [
    "## Step 1: Import Libraries"
   ]
  },
  {
   "cell_type": "code",
   "execution_count": null,
   "id": "5bc4c925",
   "metadata": {},
   "outputs": [],
   "source": [
    "import pandas as pd\n",
    "from sklearn.model_selection import train_test_split\n",
    "from sklearn.preprocessing import StandardScaler\n",
    "from sklearn.linear_model import LogisticRegression\n",
    "from sklearn.metrics import confusion_matrix, precision_score, recall_score, roc_auc_score, roc_curve\n",
    "import matplotlib.pyplot as plt"
   ]
  },
  {
   "cell_type": "markdown",
   "id": "60cc3218",
   "metadata": {},
   "source": [
    "## Step 2: Load Dataset"
   ]
  },
  {
   "cell_type": "code",
   "execution_count": null,
   "id": "908e09eb",
   "metadata": {},
   "outputs": [],
   "source": [
    "df = pd.read_excel('cancer dataset.xlsx', sheet_name='in')\n",
    "df.head()"
   ]
  },
  {
   "cell_type": "markdown",
   "id": "ec124f8c",
   "metadata": {},
   "source": [
    "## Step 3: Prepare Features and Target"
   ]
  },
  {
   "cell_type": "code",
   "execution_count": null,
   "id": "d4e093a6",
   "metadata": {},
   "outputs": [],
   "source": [
    "X = df.drop(columns=['id', 'diagnosis'])\n",
    "y = df['diagnosis'].map({'M': 1, 'B': 0})  # Malignant = 1, Benign = 0"
   ]
  },
  {
   "cell_type": "markdown",
   "id": "e887fa71",
   "metadata": {},
   "source": [
    "## Step 4: Train-Test Split and Standardize"
   ]
  },
  {
   "cell_type": "code",
   "execution_count": null,
   "id": "a6701b17",
   "metadata": {},
   "outputs": [],
   "source": [
    "X_train, X_test, y_train, y_test = train_test_split(X, y, test_size=0.2, random_state=42)\n",
    "scaler = StandardScaler()\n",
    "X_train_scaled = scaler.fit_transform(X_train)\n",
    "X_test_scaled = scaler.transform(X_test)"
   ]
  },
  {
   "cell_type": "markdown",
   "id": "f08825d0",
   "metadata": {},
   "source": [
    "## Step 5: Fit Logistic Regression Model"
   ]
  },
  {
   "cell_type": "code",
   "execution_count": null,
   "id": "47e1bb26",
   "metadata": {},
   "outputs": [],
   "source": [
    "model = LogisticRegression()\n",
    "model.fit(X_train_scaled, y_train)\n",
    "y_probs = model.predict_proba(X_test_scaled)[:, 1]\n",
    "y_preds = model.predict(X_test_scaled)"
   ]
  },
  {
   "cell_type": "markdown",
   "id": "0b2e569c",
   "metadata": {},
   "source": [
    "## Step 6: Evaluate Model"
   ]
  },
  {
   "cell_type": "code",
   "execution_count": null,
   "id": "4ee05dc7",
   "metadata": {},
   "outputs": [],
   "source": [
    "conf_matrix = confusion_matrix(y_test, y_preds)\n",
    "precision = precision_score(y_test, y_preds)\n",
    "recall = recall_score(y_test, y_preds)\n",
    "roc_auc = roc_auc_score(y_test, y_probs)\n",
    "conf_matrix, precision, recall, roc_auc"
   ]
  },
  {
   "cell_type": "markdown",
   "id": "b86f90cf",
   "metadata": {},
   "source": [
    "## Step 7: Plot ROC Curve"
   ]
  },
  {
   "cell_type": "code",
   "execution_count": null,
   "id": "a1750af2",
   "metadata": {},
   "outputs": [],
   "source": [
    "fpr, tpr, thresholds = roc_curve(y_test, y_probs)\n",
    "plt.figure(figsize=(8, 6))\n",
    "plt.plot(fpr, tpr, label=f'ROC Curve (AUC = {roc_auc:.2f}')\n",
    "plt.plot([0, 1], [0, 1], 'k--')\n",
    "plt.xlabel('False Positive Rate')\n",
    "plt.ylabel('True Positive Rate')\n",
    "plt.title('ROC Curve - Logistic Regression')\n",
    "plt.legend()\n",
    "plt.grid(True)\n",
    "plt.show()"
   ]
  },
  {
   "cell_type": "markdown",
   "id": "a77ec89c",
   "metadata": {},
   "source": [
    "## Step 8: Threshold Tuning Example"
   ]
  },
  {
   "cell_type": "code",
   "execution_count": null,
   "id": "366411e0",
   "metadata": {},
   "outputs": [],
   "source": [
    "threshold = 0.4\n",
    "y_pred_tuned = (y_probs > threshold).astype(int)\n",
    "conf_matrix_tuned = confusion_matrix(y_test, y_pred_tuned)\n",
    "conf_matrix_tuned"
   ]
  },
  {
   "cell_type": "markdown",
   "id": "cbbc4711",
   "metadata": {},
   "source": [
    "## Step 9: Save Outputs"
   ]
  },
  {
   "cell_type": "code",
   "execution_count": null,
   "id": "59816cd0",
   "metadata": {},
   "outputs": [],
   "source": [
    "df.to_csv('cleaned_cancer_dataset.csv', index=False)\n",
    "pd.DataFrame({'Actual': y_test.values, 'Predicted': y_preds, 'Probabilities': y_probs}).to_csv('predictions.csv', index=False)"
   ]
  }
 ],
 "metadata": {},
 "nbformat": 4,
 "nbformat_minor": 5
}
